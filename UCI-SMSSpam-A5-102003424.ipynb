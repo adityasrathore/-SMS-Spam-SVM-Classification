{
  "nbformat": 4,
  "nbformat_minor": 0,
  "metadata": {
    "colab": {
      "provenance": []
    },
    "kernelspec": {
      "name": "python3",
      "display_name": "Python 3"
    },
    "language_info": {
      "name": "python"
    }
  },
  "cells": [
    {
      "cell_type": "code",
      "source": [
        "import pandas as pd\n",
        "from sklearn.feature_extraction.text import TfidfVectorizer\n",
        "from sklearn.model_selection import StratifiedKFold, GridSearchCV\n",
        "from sklearn.svm import SVC\n",
        "\n",
        "# Load the dataset\n",
        "df = pd.read_csv('SMSSpamCollection.csv', sep='\\t', header=None, names=['label', 'text'])\n",
        "\n",
        "# Preprocess the dataset\n",
        "df['label'] = df['label'].map({'ham': 0, 'spam': 1})\n",
        "vectorizer = TfidfVectorizer(stop_words='english')\n",
        "X = vectorizer.fit_transform(df['text'])\n",
        "y = df['label']\n",
        "\n",
        "# Define the hyperparameters to tune\n",
        "param_grid = {\n",
        "    'C': [0.1, 1, 10, 100],\n",
        "    'gamma': [0.001, 0.01, 0.1, 1],\n",
        "}\n",
        "\n",
        "# Split the dataset into 10 samples and use GridSearchCV to find the best hyperparameters\n",
        "skf = StratifiedKFold(n_splits=10, shuffle=True, random_state=42)\n",
        "clf = SVC(kernel='rbf')\n",
        "grid_search = GridSearchCV(clf, param_grid, cv=skf, scoring='accuracy')\n",
        "grid_search.fit(X, y)\n",
        "\n",
        "# Print the best hyperparameters and the best accuracy score\n",
        "print(f\"Best hyperparameters: {grid_search.best_params_}\")\n",
        "print(f\"Best accuracy score: {grid_search.best_score_:.4f}\")\n"
      ],
      "metadata": {
        "colab": {
          "base_uri": "https://localhost:8080/"
        },
        "id": "B5AwQkcwi7ki",
        "outputId": "19e2696a-f611-4813-f4e3-10c08ed7fabc"
      },
      "execution_count": 28,
      "outputs": [
        {
          "output_type": "stream",
          "name": "stdout",
          "text": [
            "Best hyperparameters: {'C': 10, 'gamma': 0.1}\n",
            "Best accuracy score: 0.9835\n"
          ]
        }
      ]
    },
    {
      "cell_type": "code",
      "source": [
        "import pandas as pd\n",
        "from sklearn.feature_extraction.text import TfidfVectorizer\n",
        "from sklearn.model_selection import StratifiedKFold, GridSearchCV\n",
        "from sklearn.svm import SVC\n",
        "\n",
        "# Load the dataset\n",
        "df = pd.read_csv('SMSSpamCollection.csv', sep='\\t', header=None, names=['label', 'text'])\n",
        "\n",
        "# Preprocess the dataset\n",
        "df['label'] = df['label'].map({'ham': 0, 'spam': 1})\n",
        "vectorizer = TfidfVectorizer(stop_words='english')\n",
        "X = vectorizer.fit_transform(df['text'])\n",
        "y = df['label']\n",
        "\n",
        "# Define the hyperparameters to tune\n",
        "param_grid = {\n",
        "    'C': [0.1, 1, 10, 100],\n",
        "    'gamma': [0.001, 0.01, 0.1, 1],\n",
        "}\n",
        "\n",
        "# Split the dataset into 10 samples and use GridSearchCV to find the best hyperparameters\n",
        "skf = StratifiedKFold(n_splits=10, shuffle=True, random_state=42)\n",
        "clf = SVC(kernel='linear')\n",
        "grid_search = GridSearchCV(clf, param_grid, cv=skf, scoring='accuracy')\n",
        "grid_search.fit(X, y)\n",
        "\n",
        "# Print the best hyperparameters and the best accuracy score\n",
        "print(f\"Best hyperparameters: {grid_search.best_params_}\")\n",
        "print(f\"Best accuracy score: {grid_search.best_score_:.4f}\")\n"
      ],
      "metadata": {
        "colab": {
          "base_uri": "https://localhost:8080/"
        },
        "id": "CcySQqR8RR9Z",
        "outputId": "39319be1-09df-4e0e-a22c-b3dddbaf33d7"
      },
      "execution_count": 29,
      "outputs": [
        {
          "output_type": "stream",
          "name": "stdout",
          "text": [
            "Best hyperparameters: {'C': 10, 'gamma': 0.001}\n",
            "Best accuracy score: 0.9829\n"
          ]
        }
      ]
    },
    {
      "cell_type": "code",
      "source": [
        "import pandas as pd\n",
        "from sklearn.feature_extraction.text import TfidfVectorizer\n",
        "from sklearn.model_selection import StratifiedKFold, GridSearchCV\n",
        "from sklearn.svm import SVC\n",
        "\n",
        "# Load the dataset\n",
        "df = pd.read_csv('SMSSpamCollection.csv', sep='\\t', header=None, names=['label', 'text'])\n",
        "\n",
        "# Preprocess the dataset\n",
        "df['label'] = df['label'].map({'ham': 0, 'spam': 1})\n",
        "vectorizer = TfidfVectorizer(stop_words='english')\n",
        "X = vectorizer.fit_transform(df['text'])\n",
        "y = df['label']\n",
        "\n",
        "# Define the hyperparameters to tune\n",
        "param_grid = {\n",
        "    'C': [0.1, 1, 10, 100],\n",
        "    'gamma': [0.001, 0.01, 0.1, 1],\n",
        "}\n",
        "\n",
        "# Split the dataset into 10 samples and use GridSearchCV to find the best hyperparameters\n",
        "skf = StratifiedKFold(n_splits=10, shuffle=True, random_state=42)\n",
        "clf = SVC(kernel='poly')\n",
        "grid_search = GridSearchCV(clf, param_grid, cv=skf, scoring='accuracy')\n",
        "grid_search.fit(X, y)\n",
        "\n",
        "# Print the best hyperparameters and the best accuracy score\n",
        "print(f\"Best hyperparameters: {grid_search.best_params_}\")\n",
        "print(f\"Best accuracy score: {grid_search.best_score_:.4f}\")\n"
      ],
      "metadata": {
        "colab": {
          "base_uri": "https://localhost:8080/"
        },
        "id": "I0yarpsQR5dn",
        "outputId": "38c24ac1-8162-4d34-c981-cb8092caccec"
      },
      "execution_count": 52,
      "outputs": [
        {
          "output_type": "stream",
          "name": "stdout",
          "text": [
            "Best hyperparameters: {'C': 10, 'gamma': 1}\n",
            "Best accuracy score: 0.9402\n"
          ]
        }
      ]
    },
    {
      "cell_type": "code",
      "source": [
        "import pandas as pd\n",
        "import numpy as np\n",
        "from sklearn.feature_extraction.text import TfidfVectorizer\n",
        "from sklearn.model_selection import StratifiedKFold, GridSearchCV\n",
        "from sklearn.svm import SVC\n",
        "import matplotlib.pyplot as plt\n",
        "\n",
        "# Load the dataset\n",
        "df = pd.read_csv('SMSSpamCollection.csv', sep='\\t', header=None, names=['label', 'text'])\n",
        "\n",
        "# Preprocess the dataset\n",
        "df['label'] = df['label'].map({'ham': 0, 'spam': 1})\n",
        "vectorizer = TfidfVectorizer(stop_words='english')\n",
        "X = vectorizer.fit_transform(df['text'])\n",
        "y = df['label']\n",
        "\n",
        "# Define the hyperparameters to tune\n",
        "param_grid = {\n",
        "    'C': [0.1, 1, 10, 100],\n",
        "    'gamma': [0.001, 0.01, 0.1, 1],\n",
        "}\n",
        "\n",
        "# Split the dataset into 10 samples and use GridSearchCV to find the best hyperparameters\n",
        "skf = StratifiedKFold(n_splits=10, shuffle=True, random_state=42)\n",
        "clf = SVC(kernel='rbf')\n",
        "grid_search = GridSearchCV(clf, param_grid, cv=skf, scoring='accuracy')\n",
        "grid_search.fit(X, y)\n",
        "\n",
        "# Print the best hyperparameters and the best accuracy score\n",
        "print(f\"Best hyperparameters: {grid_search.best_params_}\")\n",
        "print(f\"Best accuracy score: {grid_search.best_score_:.4f}\")\n",
        "\n",
        "# Plot the accuracy for each combination of hyperparameters\n",
        "scores = grid_search.cv_results_['mean_test_score']\n",
        "scores = np.array(scores).reshape(len(param_grid['C']), len(param_grid['gamma']))\n",
        "plt.imshow(scores, interpolation='nearest', cmap=plt.cm.hot)\n",
        "plt.xlabel('gamma')\n",
        "plt.ylabel('C')\n",
        "plt.colorbar()\n",
        "plt.xticks(np.arange(len(param_grid['gamma'])), param_grid['gamma'], rotation=45)\n",
        "plt.yticks(np.arange(len(param_grid['C'])), param_grid['C'])\n",
        "plt.title('Accuracy')\n",
        "plt.show()\n"
      ],
      "metadata": {
        "colab": {
          "base_uri": "https://localhost:8080/"
        },
        "id": "7uZFJM69tGcn",
        "outputId": "cee67e95-85d8-4889-c212-7ed8f8291489"
      },
      "execution_count": null,
      "outputs": [
        {
          "output_type": "stream",
          "name": "stdout",
          "text": [
            "Best hyperparameters: {'C': 10, 'gamma': 0.1}\n",
            "Best accuracy score: 0.9835\n"
          ]
        },
        {
          "output_type": "display_data",
          "data": {
            "text/plain": [
              "<Figure size 640x480 with 2 Axes>"
            ],
            "image/png": "[encoded data removed]"
          },
          "metadata": {}
        }
      ]
    },
    {
      "cell_type": "code",
      "source": [
        "import pandas as pd\n",
        "import numpy as np\n",
        "from sklearn.feature_extraction.text import TfidfVectorizer\n",
        "from sklearn.model_selection import StratifiedKFold, GridSearchCV\n",
        "from sklearn.svm import SVC\n",
        "import matplotlib.pyplot as plt\n",
        "\n",
        "# Load the dataset\n",
        "df = pd.read_csv('SMSSpamCollection.csv', sep='\\t', header=None, names=['label', 'text'])\n",
        "\n",
        "# Preprocess the dataset\n",
        "df['label'] = df['label'].map({'ham': 0, 'spam': 1})\n",
        "vectorizer = TfidfVectorizer(stop_words='english')\n",
        "X = vectorizer.fit_transform(df['text'])\n",
        "y = df['label']\n",
        "\n",
        "# Define the hyperparameters to tune\n",
        "import pandas as pd\n",
        "import numpy as np\n",
        "from sklearn.feature_extraction.text import TfidfVectorizer\n",
        "from sklearn.model_selection import StratifiedKFold, GridSearchCV\n",
        "from sklearn.svm import SVC\n",
        "import matplotlib.pyplot as plt\n",
        "\n",
        "# Load the dataset\n",
        "df = pd.read_csv('SMSSpamCollection.csv', sep='\\t', header=None, names=['label', 'text'])\n",
        "\n",
        "# Preprocess the dataset\n",
        "df['label'] = df['label'].map({'ham': 0, 'spam': 1})\n",
        "vectorizer = TfidfVectorizer(stop_words='english')\n",
        "X = vectorizer.fit_transform(df['text'])\n",
        "y = df['label']\n",
        "\n",
        "# Create a grid of C and gamma values\n",
        "C_range = [0.1, 1, 10, 100]\n",
        "gamma_range = [0.001, 0.01, 0.1, 1]\n",
        "C, gamma = np.meshgrid(C_range, gamma_range)\n",
        "\n",
        "# Compute the accuracy for each combination of C and gamma values\n",
        "accuracy = np.zeros_like(C)\n",
        "for i in range(len(C_range)):\n",
        "    for j in range(len(gamma_range)):\n",
        "        clf = SVC(kernel='rbf', C=C_range[i], gamma=gamma_range[j])\n",
        "        scores = []\n",
        "        for train_idx, test_idx in skf.split(X, y):\n",
        "            X_train, X_test = X[train_idx], X[test_idx]\n",
        "            y_train, y_test = y[train_idx], y[test_idx]\n",
        "            clf.fit(X_train, y_train)\n",
        "            scores.append(clf.score(X_test, y_test))\n",
        "        accuracy[j, i] = np.mean(scores)\n",
        "\n",
        "# Plot the accuracy for each combination of C and gamma values\n",
        "plt.figure(figsize=(8, 6))\n",
        "plt.scatter(C, gamma, c=accuracy, cmap='viridis')\n",
        "plt.colorbar()\n",
        "plt.xscale('log')\n",
        "plt.xlabel('C')\n",
        "plt.ylabel('Gamma')\n",
        "plt.title('SVM accuracy')\n",
        "plt.show()\n",
        "\n",
        "\n"
      ],
      "metadata": {
        "colab": {
          "base_uri": "https://localhost:8080/",
          "height": 569
        },
        "id": "luiNt4dHYH2Q",
        "outputId": "98f2af79-e9a0-4d8e-ae41-be52233d1fb4"
      },
      "execution_count": 55,
      "outputs": [
        {
          "output_type": "display_data",
          "data": {
            "text/plain": [
              "<Figure size 800x600 with 2 Axes>"
            ],
            "image/png": "[encoded data removed]"
          },
          "metadata": {}
        }
      ]
    },
    {
      "cell_type": "code",
      "source": [
        "param_grid = {\n",
        "    'C': [0.1, 1, 10, 100],\n",
        "    'gamma': [0.001, 0.01, 0.1, 1],\n",
        "    'epsilon': [0.01, 0.1, 1],\n",
        "    'kernel': ['linear', 'rbf', 'poly', 'sigmoid']\n",
        "}\n"
      ],
      "metadata": {
        "id": "EbnPdGN_Q00a"
      },
      "execution_count": null,
      "outputs": []
    },
    {
      "cell_type": "code",
      "source": [
        "import pandas as pd\n",
        "from sklearn.feature_extraction.text import TfidfVectorizer\n",
        "from sklearn.model_selection import StratifiedKFold, GridSearchCV\n",
        "from sklearn.svm import SVC\n",
        "\n",
        "# Load the dataset\n",
        "df = pd.read_csv('SMSSpamCollection.csv', sep='\\t', header=None, names=['label', 'text'])\n",
        "\n",
        "# Preprocess the dataset\n",
        "df['label'] = df['label'].map({'ham': 0, 'spam': 1})\n",
        "vectorizer = TfidfVectorizer(stop_words='english')\n",
        "X = vectorizer.fit_transform(df['text'])\n",
        "y = df['label']\n",
        "\n",
        "# Define the hyperparameters to tune\n",
        "param_grid = {\n",
        "    'C': [0.1, 1, 10, 100],\n",
        "    'kernel': [ 'poly', 'rbf', 'sigmoid'],\n",
        "    # 'nu': [0.1, 0.5, 0.9],\n",
        "    # 'epsilon': [0.01, 0.1, 1],\n",
        "}\n",
        "\n",
        "# Split the dataset into 10 samples and use GridSearchCV to find the best hyperparameters\n",
        "skf = StratifiedKFold(n_splits=10, shuffle=True, random_state=42)\n",
        "clf = SVC()\n",
        "grid_search = GridSearchCV(clf, param_grid, cv=skf, scoring='accuracy')\n",
        "grid_search.fit(X, y)\n",
        "\n",
        "# Print the best hyperparameters and the best accuracy score\n",
        "print(f\"Best hyperparameters: {grid_search.best_params_}\")\n",
        "print(f\"Best accuracy score: {grid_search.best_score_:.4f}\")\n"
      ],
      "metadata": {
        "colab": {
          "base_uri": "https://localhost:8080/"
        },
        "id": "4khTHKH-STrC",
        "outputId": "d90d4d8d-e167-44cd-c1d9-c9c3710c7188"
      },
      "execution_count": 38,
      "outputs": [
        {
          "output_type": "stream",
          "name": "stdout",
          "text": [
            "Best hyperparameters: {'C': 1, 'kernel': 'sigmoid'}\n",
            "Best accuracy score: 0.9804\n"
          ]
        }
      ]
    },
    {
      "cell_type": "code",
      "source": [
        "import pandas as pd\n",
        "from sklearn.feature_extraction.text import TfidfVectorizer\n",
        "from sklearn.model_selection import StratifiedKFold, GridSearchCV\n",
        "from sklearn.svm import NuSVC\n",
        "\n",
        "# Load the dataset\n",
        "df = pd.read_csv('SMSSpamCollection.csv', sep='\\t', header=None, names=['label', 'text'])\n",
        "\n",
        "# Preprocess the dataset\n",
        "df['label'] = df['label'].map({'ham': 0, 'spam': 1})\n",
        "vectorizer = TfidfVectorizer(stop_words='english')\n",
        "X = vectorizer.fit_transform(df['text'])\n",
        "y = df['label']\n",
        "\n",
        "# Define the hyperparameters to tune\n",
        "param_grid = {\n",
        "    'nu': [0.1, 0.5, 0.9],\n",
        "}\n",
        "\n",
        "# Split the dataset into 10 samples and use GridSearchCV to find the best hyperparameters\n",
        "skf = StratifiedKFold(n_splits=10, shuffle=True, random_state=42)\n",
        "clf = NuSVC()\n",
        "grid_search = GridSearchCV(clf, param_grid, cv=skf, scoring='accuracy')\n",
        "grid_search.fit(X, y)\n",
        "\n",
        "# Print the best hyperparameters and the best accuracy score\n",
        "print(f\"Best hyperparameters: {grid_search.best_params_}\")\n",
        "print(f\"Best accuracy score: {grid_search.best_score_:.4f}\")\n"
      ],
      "metadata": {
        "colab": {
          "base_uri": "https://localhost:8080/"
        },
        "id": "0URFbMi-TFsA",
        "outputId": "94750449-0ae7-4a26-8f2f-0c6ddc67cdcf"
      },
      "execution_count": 41,
      "outputs": [
        {
          "output_type": "stream",
          "name": "stderr",
          "text": [
            "/usr/local/lib/python3.9/dist-packages/sklearn/model_selection/_validation.py:378: FitFailedWarning: \n",
            "20 fits failed out of a total of 30.\n",
            "The score on these train-test partitions for these parameters will be set to nan.\n",
            "If these failures are not expected, you can try to debug them by setting error_score='raise'.\n",
            "\n",
            "Below are more details about the failures:\n",
            "--------------------------------------------------------------------------------\n",
            "20 fits failed with the following error:\n",
            "Traceback (most recent call last):\n",
            "  File \"/usr/local/lib/python3.9/dist-packages/sklearn/model_selection/_validation.py\", line 686, in _fit_and_score\n",
            "    estimator.fit(X_train, y_train, **fit_params)\n",
            "  File \"/usr/local/lib/python3.9/dist-packages/sklearn/svm/_base.py\", line 252, in fit\n",
            "    fit(X, y, sample_weight, solver_type, kernel, random_seed=seed)\n",
            "  File \"/usr/local/lib/python3.9/dist-packages/sklearn/svm/_base.py\", line 373, in _sparse_fit\n",
            "    ) = libsvm_sparse.libsvm_sparse_train(\n",
            "  File \"sklearn/svm/_libsvm_sparse.pyx\", line 147, in sklearn.svm._libsvm_sparse.libsvm_sparse_train\n",
            "ValueError: b'specified nu is infeasible'\n",
            "\n",
            "  warnings.warn(some_fits_failed_message, FitFailedWarning)\n",
            "/usr/local/lib/python3.9/dist-packages/sklearn/model_selection/_search.py:952: UserWarning: One or more of the test scores are non-finite: [0.97774464        nan        nan]\n",
            "  warnings.warn(\n"
          ]
        },
        {
          "output_type": "stream",
          "name": "stdout",
          "text": [
            "Best hyperparameters: {'nu': 0.1}\n",
            "Best accuracy score: 0.9777\n"
          ]
        }
      ]
    },
    {
      "cell_type": "code",
      "source": [
        "import pandas as pd\n",
        "from sklearn.feature_extraction.text import TfidfVectorizer\n",
        "from sklearn.model_selection import StratifiedKFold, GridSearchCV\n",
        "from sklearn.svm import NuSVC\n",
        "\n",
        "# Load the dataset\n",
        "df = pd.read_csv('SMSSpamCollection.csv', sep='\\t', header=None, names=['label', 'text'])\n",
        "\n",
        "# Preprocess the dataset\n",
        "df['label'] = df['label'].map({'ham': 0, 'spam': 1})\n",
        "vectorizer = TfidfVectorizer(stop_words='english')\n",
        "X = vectorizer.fit_transform(df['text'])\n",
        "y = df['label']\n",
        "\n",
        "# Define the hyperparameters to tune\n",
        "param_grid = {\n",
        "    'nu': [0.1],\n",
        "    'tol': [1e-3, 1e-4, 1e-5],\n",
        "}\n",
        "\n",
        "# Split the dataset into 10 samples and use GridSearchCV to find the best hyperparameters\n",
        "skf = StratifiedKFold(n_splits=10, shuffle=True, random_state=42)\n",
        "clf = NuSVC(kernel='linear')\n",
        "grid_search = GridSearchCV(clf, param_grid, cv=skf, scoring='accuracy')\n",
        "grid_search.fit(X, y)\n",
        "\n",
        "# Print the best hyperparameters and the best accuracy score\n",
        "print(f\"Best hyperparameters: {grid_search.best_params_}\")\n",
        "print(f\"Best accuracy score: {grid_search.best_score_:.4f}\")\n"
      ],
      "metadata": {
        "colab": {
          "base_uri": "https://localhost:8080/"
        },
        "id": "NC_YhpASUJGn",
        "outputId": "08c69304-40de-4312-8c23-2bfe52a299bb"
      },
      "execution_count": 43,
      "outputs": [
        {
          "output_type": "stream",
          "name": "stdout",
          "text": [
            "Best hyperparameters: {'nu': 0.1, 'tol': 0.0001}\n",
            "Best accuracy score: 0.9813\n"
          ]
        }
      ]
    },
    {
      "cell_type": "code",
      "source": [
        "import pandas as pd\n",
        "from sklearn.feature_extraction.text import TfidfVectorizer\n",
        "from sklearn.model_selection import StratifiedKFold, GridSearchCV\n",
        "from sklearn.svm import SVR\n",
        "\n",
        "# Load the dataset\n",
        "df = pd.read_csv('SMSSpamCollection.csv', sep='\\t', header=None, names=['label', 'text'])\n",
        "\n",
        "# Preprocess the dataset\n",
        "df['label'] = df['label'].map({'ham': 0, 'spam': 1})\n",
        "vectorizer = TfidfVectorizer(stop_words='english')\n",
        "X = vectorizer.fit_transform(df['text'])\n",
        "y = df['label']\n",
        "\n",
        "# Define the hyperparameters to tune\n",
        "param_grid = {\n",
        "    'epsilon': [0.1, 0.01, 0.001],\n",
        "}\n",
        "\n",
        "# Split the dataset into 10 samples and use GridSearchCV to find the best hyperparameters\n",
        "skf = StratifiedKFold(n_splits=10, shuffle=True, random_state=42)\n",
        "clf = SVR(kernel='linear')\n",
        "grid_search = GridSearchCV(clf, param_grid, cv=skf, scoring='neg_mean_squared_error')\n",
        "grid_search.fit(X, y)\n",
        "\n",
        "# Print the best hyperparameters and the best accuracy score\n",
        "print(f\"Best hyperparameters: {grid_search.best_params_}\")\n",
        "print(f\"Best MSE score: {-grid_search.best_score_:.4f}\")\n"
      ],
      "metadata": {
        "colab": {
          "base_uri": "https://localhost:8080/"
        },
        "id": "YXqYoJ1IUKg5",
        "outputId": "40f878de-8296-48f0-daa4-374b0fa9287b"
      },
      "execution_count": 51,
      "outputs": [
        {
          "output_type": "stream",
          "name": "stdout",
          "text": [
            "Best hyperparameters: {'epsilon': 0.01}\n",
            "Best MSE score: 0.0196\n"
          ]
        }
      ]
    }
  ]
}